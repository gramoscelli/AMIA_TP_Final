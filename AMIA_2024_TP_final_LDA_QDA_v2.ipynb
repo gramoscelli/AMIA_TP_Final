{
 "cells": [
  {
   "cell_type": "markdown",
   "metadata": {
    "id": "bpJ7s_SIVu_I"
   },
   "source": [
    "# Trabajo Práctico Final: Linear/Quadratic Discriminant Analysis (LDA/QDA)\n",
    "\n",
    "### Definición: Clasificador Bayesiano\n",
    "\n",
    "Sean $k$ poblaciones, $x \\in \\mathbb{R}^p$ puede pertenecer a cualquiera $g \\in \\mathcal{G}$ de ellas. Bajo un esquema bayesiano, se define entonces $\\pi_j \\doteq P(G = j)$ la probabilidad *a priori* de que $X$ pertenezca a la clase *j*, y se **asume conocida** la distribución condicional de cada observable dado su clase $f_j \\doteq f_{X|G=j}$.\n",
    "\n",
    "De esta manera dicha probabilidad *a posteriori* resulta\n",
    "$$\n",
    "P(G|_{X=x} = j) = \\frac{f_{X|G=j}(x) \\cdot p_G(j)}{f_X(x)} \\propto f_j(x) \\cdot \\pi_j\n",
    "$$\n",
    "\n",
    "La regla de decisión de Bayes es entonces\n",
    "$$\n",
    "H(x) \\doteq \\arg \\max_{g \\in \\mathcal{G}} \\{ P(G|_{X=x} = j) \\} = \\arg \\max_{g \\in \\mathcal{G}} \\{ f_j(x) \\cdot \\pi_j \\}\n",
    "$$\n",
    "\n",
    "es decir, se predice a $x$ como perteneciente a la población $j$ cuya probabilidad a posteriori es máxima.\n",
    "\n",
    "*Ojo, a no desesperar! $\\pi_j$ no es otra cosa que una constante prefijada, y $f_j$ es, en su esencia, un campo escalar de $x$ a simplemente evaluar.*\n",
    "\n",
    "### Distribución condicional\n",
    "\n",
    "Para los clasificadores de discriminante cuadrático y lineal (QDA/LDA) se asume que $X|_{G=j} \\sim \\mathcal{N}_p(\\mu_j, \\Sigma_j)$, es decir, se asume que cada población sigue una distribución normal.\n",
    "\n",
    "Por definición, se tiene entonces que para una clase $j$:\n",
    "$$\n",
    "f_j(x) = \\frac{1}{(2 \\pi)^\\frac{p}{2} \\cdot |\\Sigma_j|^\\frac{1}{2}} e^{- \\frac{1}{2}(x-\\mu_j)^T \\Sigma_j^{-1} (x- \\mu_j)}\n",
    "$$\n",
    "\n",
    "Aplicando logaritmo (que al ser una función estrictamente creciente no afecta el cálculo de máximos/mínimos), queda algo mucho más práctico de trabajar:\n",
    "\n",
    "$$\n",
    "\\log{f_j(x)} = -\\frac{1}{2}\\log |\\Sigma_j| - \\frac{1}{2} (x-\\mu_j)^T \\Sigma_j^{-1} (x- \\mu_j) + C\n",
    "$$\n",
    "\n",
    "Observar que en este caso $C=-\\frac{p}{2} \\log(2\\pi)$, pero no se tiene en cuenta ya que al tener una constante aditiva en todas las clases, no afecta al cálculo del máximo.\n",
    "\n",
    "### LDA\n",
    "\n",
    "En el caso de LDA se hace una suposición extra, que es $X|_{G=j} \\sim \\mathcal{N}_p(\\mu_j, \\Sigma)$, es decir que las poblaciones no sólo siguen una distribución normal sino que son de igual matriz de covarianzas. Reemplazando arriba se obtiene entonces:\n",
    "\n",
    "$$\n",
    "\\log{f_j(x)} =  -\\frac{1}{2}\\log |\\Sigma| - \\frac{1}{2} (x-\\mu_j)^T \\Sigma^{-1} (x- \\mu_j) + C\n",
    "$$\n",
    "\n",
    "Ahora, como $-\\frac{1}{2}\\log |\\Sigma|$ es común a todas las clases se puede incorporar a la constante aditiva y, distribuyendo y reagrupando términos sobre $(x-\\mu_j)^T \\Sigma^{-1} (x- \\mu_j)$ se obtiene finalmente:\n",
    "\n",
    "$$\n",
    "\\log{f_j(x)} =  \\mu_j^T \\Sigma^{-1} (x- \\frac{1}{2} \\mu_j) + C'\n",
    "$$\n",
    "\n",
    "### Entrenamiento/Ajuste\n",
    "\n",
    "Obsérvese que para ambos modelos, ajustarlos a los datos implica estimar los parámetros $(\\mu_j, \\Sigma_j) \\; \\forall j = 1, \\dots, k$ en el caso de QDA, y $(\\mu_j, \\Sigma)$ para LDA.\n",
    "\n",
    "Estos parámetros se estiman por máxima verosimilitud, de manera que los estimadores resultan:\n",
    "\n",
    "* $\\hat{\\mu}_j = \\bar{x}_j$ el promedio de los $x$ de la clase *j*\n",
    "* $\\hat{\\Sigma}_j = s^2_j$ la matriz de covarianzas estimada para cada clase *j*\n",
    "* $\\hat{\\pi}_j = f_{R_j} = \\frac{n_j}{n}$ la frecuencia relativa de la clase *j* en la muestra\n",
    "* $\\hat{\\Sigma} = \\frac{1}{n} \\sum_{j=1}^k n_j \\cdot s^2_j$ el promedio ponderado (por frecs. relativas) de las matrices de covarianzas de todas las clases. *Observar que se utiliza el estimador de MV y no el insesgado*\n",
    "\n",
    "Es importante notar que si bien todos los $\\mu, \\Sigma$ deben ser estimados, la distribución *a priori* puede no inferirse de los datos sino asumirse previamente, utilizándose como entrada del modelo.\n",
    "\n",
    "### Predicción\n",
    "\n",
    "Para estos modelos, al igual que para cualquier clasificador Bayesiano del tipo antes visto, la estimación de la clase es por método *plug-in* sobre la regla de decisión $H(x)$, es decir devolver la clase que maximiza $\\hat{f}_j(x) \\cdot \\hat{\\pi}_j$, o lo que es lo mismo $\\log\\hat{f}_j(x) + \\log\\hat{\\pi}_j$."
   ]
  },
  {
   "cell_type": "markdown",
   "metadata": {
    "id": "5TDWOgpJWKQa"
   },
   "source": [
    "## Estructura del código"
   ]
  },
  {
   "cell_type": "markdown",
   "metadata": {
    "id": "6yEV8WbiWl6k"
   },
   "source": [
    "## Modelo"
   ]
  },
  {
   "cell_type": "code",
   "execution_count": 132,
   "metadata": {
    "id": "teF9O9JJmG7Z"
   },
   "outputs": [],
   "source": [
    "import numpy as np\n",
    "from numpy.linalg import det, inv"
   ]
  },
  {
   "cell_type": "code",
   "execution_count": 133,
   "metadata": {
    "id": "sDBLvbTtlwzs"
   },
   "outputs": [],
   "source": [
    "class ClassEncoder:\n",
    "  def fit(self, y):\n",
    "    self.names = np.unique(y)\n",
    "    #self.name_to_class = {name:idx for idx, name in enumerate(self.names)}\n",
    "    self.fmt = y.dtype\n",
    "    # Q1: por que no hace falta definir un class_to_name para el mapeo inverso?\n",
    "    # Esto se hace con names. En y_hat tengo indices, que son los indices necesarios para recuperar nombres en names.\n",
    "    # De hecho, en names tengo nombres e índices. Podría usar \"names\" para transform y detransform (esto es lo que estoy haciendo)\n",
    "\n",
    "\n",
    "  def _map_reshape(self, f, arr):\n",
    "    return np.array([f(elem) for elem in arr.flatten()]).reshape(arr.shape)\n",
    "    # Q2: por que hace falta un reshape?\n",
    "    # Recupera la forma original de arr luego de aplicar la función f a cada elemento  \n",
    "\n",
    "  # La podría hacer privada para evitar que se invoque de afuera sin haber invocado a fit previamente\n",
    "  def transform(self, y):\n",
    "    #return self._map_reshape(lambda name: self.name_to_class[name], y) # No uso name_to_class!\n",
    "    return  self._map_reshape(lambda name: np.where(self.names == name)[0][0], y) # Acá np.where() devuleve (array([idx]),)\n",
    "\n",
    "  def fit_transform(self, y):\n",
    "    self.fit(y)\n",
    "    return self.transform(y)\n",
    "\n",
    "\n",
    "  # Puede pasar lo mismo que en tranform si no se llama a fit primero (no existe self.names)\n",
    "  def detransform(self, y_hat):\n",
    "    return self._map_reshape(lambda idx: self.names[idx], y_hat)"
   ]
  },
  {
   "cell_type": "code",
   "execution_count": 134,
   "metadata": {
    "id": "m0KYC8_uSOu4"
   },
   "outputs": [],
   "source": [
    "class BaseBayesianClassifier:\n",
    "  def __init__(self):\n",
    "    self.encoder = ClassEncoder()\n",
    "\n",
    "  def _estimate_a_priori(self, y):\n",
    "    a_priori = np.bincount(y.flatten().astype(int)) / y.size # Calcula frecuencia de cada clase\n",
    "    # Q3: para que sirve bincount?\n",
    "    # Cuenta las ocurrencias de cada valor entero no negativo de y y devuelve un array\n",
    "    return np.log(a_priori)\n",
    "\n",
    "  def _fit_params(self, X, y):\n",
    "    # estimate all needed parameters for given model\n",
    "    raise NotImplementedError()\n",
    "    # Method to estimate parameters, to be implemented in each child class based on the specific model.\n",
    "\n",
    "  def _predict_log_conditional(self, x, class_idx):\n",
    "    # predict the log(P(x|G=class_idx)), the log of the conditional probability of x given the class\n",
    "    # this should depend on the model used\n",
    "    raise NotImplementedError()\n",
    "\n",
    "  def fit(self, X, y, a_priori=None):\n",
    "    # first encode the classes\n",
    "    y = self.encoder.fit_transform(y)\n",
    "\n",
    "    # self._fit_params(X, y) # Eliminar esta linea, es sólo para probar Q4. Claramente rompe todo!\n",
    "\n",
    "    # if it's needed, estimate a priori probabilities\n",
    "    self.log_a_priori = self._estimate_a_priori(y) if a_priori is None else np.log(a_priori)\n",
    "\n",
    "    # check that a_priori has the correct number of classes\n",
    "    assert len(self.log_a_priori) == len(self.encoder.names), \"A priori probabilities do not match number of classes\"\n",
    "\n",
    "    # now that everything else is in place, estimate all needed parameters for given model\n",
    "    self._fit_params(X, y)\n",
    "    # Q4: por que el _fit_params va al final? no se puede mover a, por ejemplo, antes de la priori?\n",
    "\n",
    "  def predict(self, X):\n",
    "    # this is actually an individual prediction encased in a for-loop\n",
    "    m_obs = X.shape[1] # m_obs es igual a la cantidad de datos que se predicen\n",
    "    y_hat = np.empty(m_obs, dtype=self.encoder.fmt) # Array de cadenas vacías, en principio. El tamano maximo de las cadenas\n",
    "    # está definido por fmt\n",
    "\n",
    "    # Recorre todos las observaciones buscando el máximo\n",
    "    for i in range(m_obs):\n",
    "      encoded_y_hat_i = self._predict_one(X[:,i].reshape(-1,1))\n",
    "      y_hat[i] = self.encoder.names[encoded_y_hat_i]\n",
    "    # return prediction as a row vector (matching y)\n",
    "    return y_hat.reshape(1,-1)\n",
    "\n",
    "  def _predict_one(self, x):\n",
    "    # calculate all log posteriori probabilities (actually, +C)\n",
    "    log_posteriori = [ log_a_priori_i + self._predict_log_conditional(x, idx) for idx, log_a_priori_i\n",
    "                  in enumerate(self.log_a_priori) ]\n",
    "    \n",
    "    # Defino atributos nuevos para analizar resultados\n",
    "    self.log_posteriori = log_posteriori\n",
    "    self.verosimilitud = [self._predict_log_conditional (x, idx) for idx in range(len(self.log_a_priori))]\n",
    "\n",
    "    # return the class that has maximum a posteriori probability\n",
    "    return np.argmax(log_posteriori)"
   ]
  },
  {
   "cell_type": "code",
   "execution_count": 135,
   "metadata": {
    "id": "IRamFdiGDuSR"
   },
   "outputs": [],
   "source": [
    "class QDA(BaseBayesianClassifier):\n",
    "\n",
    "  # Estimo matrices de covarianza y medias\n",
    "  def _fit_params(self, X, y):\n",
    "    # estimate each covariance matrix\n",
    "    self.inv_covs = [inv(np.cov(X[:,y.flatten()==idx], bias=True))\n",
    "                      for idx in range(len(self.log_a_priori))]\n",
    "    # Q5: por que hace falta el flatten y no se puede directamente X[:,y==idx]?\n",
    "    # Q6: por que se usa bias=True en vez del default bias=False?\n",
    "    self.means = [X[:,y.flatten()==idx].mean(axis=1, keepdims=True)\n",
    "                  for idx in range(len(self.log_a_priori))]\n",
    "    # Q7: que hace axis=1? por que no axis=0?\n",
    "\n",
    "  def _predict_log_conditional(self, x, class_idx):\n",
    "    # predict the log(P(x|G=class_idx)), the log of the conditional probability of x given the class\n",
    "    # this should depend on the model used\n",
    "    inv_cov = self.inv_covs[class_idx]\n",
    "    unbiased_x =  x - self.means[class_idx]\n",
    "    return 0.5*np.log(det(inv_cov)) -0.5 * unbiased_x.T @ inv_cov @ unbiased_x\n",
    "  "
   ]
  },
  {
   "cell_type": "code",
   "execution_count": 136,
   "metadata": {
    "id": "fRtC9HEkO5Hu"
   },
   "outputs": [],
   "source": [
    "class TensorizedQDA(QDA):\n",
    "\n",
    "    def _fit_params(self, X, y):\n",
    "        # ask plain QDA to fit params\n",
    "        super()._fit_params(X,y)\n",
    "\n",
    "        # stack onto new dimension\n",
    "        self.tensor_inv_cov = np.stack(self.inv_covs)\n",
    "        self.tensor_means = np.stack(self.means)\n",
    "\n",
    "    def _predict_log_conditionals(self,x):\n",
    "        unbiased_x = x - self.tensor_means\n",
    "        inner_prod = unbiased_x.transpose(0,2,1) @ self.tensor_inv_cov @ unbiased_x\n",
    "\n",
    "        self.inner_prod = inner_prod\n",
    "\n",
    "        return 0.5*np.log(det(self.tensor_inv_cov)) - 0.5 * inner_prod.flatten()\n",
    "    \n",
    "\n",
    "    def _predict_one(self, x):\n",
    "        # return the class that has maximum a posteriori probability\n",
    "        return np.argmax(self.log_a_priori + self._predict_log_conditionals(x))"
   ]
  },
  {
   "cell_type": "code",
   "execution_count": 137,
   "metadata": {},
   "outputs": [],
   "source": [
    "class fasterQDA(TensorizedQDA):\n",
    "    def _predict_log_conditionals(self, X):\n",
    "\n",
    "        classes = len(self.log_a_priori)\n",
    "        n = len(X[1])\n",
    "\n",
    "        # Forma de X: (p, n)\n",
    "        # Forma de self.tensor_means: (classes, p, 1)\n",
    "\n",
    "        X_expanded = np.expand_dims(X, axis=0)  # Forma (1, p, n)\n",
    "        X_expanded = np.tile(X_expanded, (classes, 1, 1))  # Forma (classes, p, n)\n",
    "\n",
    "        tensor_means_expanded = np.tile(self.tensor_means, (1, 1, n)) # Forma (classes, p, n)\n",
    "\n",
    "        unbiased_X = X_expanded - tensor_means_expanded # Forma (classes, p, n)\n",
    "\n",
    "\n",
    "        unbiased_X_transposed =  unbiased_X.transpose(0,2,1) # Forma (classes, n, p)\n",
    "\n",
    "        # Forma de self.tensor_inv_cov: (classes, p, p)\n",
    "        # \"classes\" matrices de nxn\n",
    "        inner_prod_mat = unbiased_X_transposed @ self.tensor_inv_cov @ unbiased_X # Forma (classes, n, n)\n",
    "\n",
    "        dets = np.linalg.det(self.tensor_inv_cov)  # Forma (classes,)\n",
    "        dets_expanded = np.expand_dims(dets, axis=1)  # Forma (classes, 1)\n",
    "        dets_expanded = np.tile(dets_expanded, (1, n))  # Forma (classes, n)\n",
    "\n",
    "        return 0.5 * np.log(dets_expanded) - 0.5 * np.diagonal(inner_prod_mat, axis1=1, axis2=2) # Forma (classes, n)\n",
    "\n",
    "    \n",
    "    def _predict_one(self, X):\n",
    "        # return the class that has maximum a posteriori probability\n",
    "        n = len(X[1])\n",
    "        log_a_priori_expanded = np.expand_dims(self.log_a_priori, axis=1)  # Forma (classes, 1)\n",
    "        log_a_priori_expanded = np.tile(log_a_priori_expanded, (1, n))  # Forma (classes, n)\n",
    "\n",
    "        self.log_a_posteriori = log_a_priori_expanded + self._predict_log_conditionals(X)\n",
    "\n",
    "        return np.argmax(self.log_a_posteriori, axis=0)\n",
    "    \n",
    "    def predict(self, X):\n",
    "        prediction_expanded = np.expand_dims(self._predict_one(X), axis=0) # Expando a la forma [self._predict_one(X)]\n",
    "        # Convierto los indices de la predicción a nombres de clases (con detransform)\n",
    "        return self.encoder.detransform(prediction_expanded)"
   ]
  },
  {
   "cell_type": "code",
   "execution_count": 138,
   "metadata": {},
   "outputs": [],
   "source": [
    "class FasterQDA(TensorizedQDA):\n",
    "    def _predict_log_conditionals(self, X):\n",
    "\n",
    "        classes = len(self.log_a_priori)\n",
    "        n = len(X[1])\n",
    "\n",
    "        # Forma de X: (p, n)\n",
    "        # Forma de self.tensor_means: (classes, p, 1)\n",
    "\n",
    "        X_expanded = np.expand_dims(X, axis=0)  # Forma (1, p, n)\n",
    "        X_expanded = np.tile(X_expanded, (classes, 1, 1))  # Forma (classes, p, n)\n",
    "\n",
    "        tensor_means_expanded = np.tile(self.tensor_means, (1, 1, n)) # Forma (classes, p, n)\n",
    "\n",
    "        unbiased_X = X_expanded - tensor_means_expanded # Forma (classes, p, n)\n",
    "\n",
    "        # Forma de self.tensor_inv_cov: (classes, p, p)\n",
    "        unbiased_X_transposed =  unbiased_X.transpose(0,2,1) # Forma (classes, n, p)\n",
    "        A = unbiased_X_transposed @ self.tensor_inv_cov # Forma (classes, n, p)\n",
    "\n",
    "        # Siguiendo el enunciado, hago np.sum(A * B_tansposed, axis = 1), donde B es unbiesed_x\n",
    "        inner_prod = (A * unbiased_X_transposed).sum(axis=-1)  # Forma (classes, n)\n",
    "\n",
    "        dets = np.linalg.det(self.tensor_inv_cov)  # Forma (classes,)\n",
    "        dets_expanded = np.expand_dims(dets, axis=1)  # Forma (classes, 1)\n",
    "        dets_expanded = np.tile(dets_expanded, (1, n))  # Forma (classes, n)\n",
    "\n",
    "        return 0.5 * np.log(dets_expanded) - 0.5 * inner_prod # Forma (classes, n)\n",
    "\n",
    "    \n",
    "    def _predict_one(self, X):\n",
    "        # return the class that has maximum a posteriori probability\n",
    "        n = len(X[1])\n",
    "        log_a_priori_expanded = np.expand_dims(self.log_a_priori, axis=1)  # Forma (classes, 1)\n",
    "        log_a_priori_expanded = np.tile(log_a_priori_expanded, (1, n))  # Forma (classes, n)\n",
    "\n",
    "        self.log_a_posteriori = log_a_priori_expanded + self._predict_log_conditionals(X)\n",
    "\n",
    "        return np.argmax(self.log_a_posteriori, axis=0)\n",
    "    \n",
    "    def predict(self, X):\n",
    "        prediction_expanded = np.expand_dims(self._predict_one(X), axis=0) # Expando a la forma [self._predict_one(X)]\n",
    "        # Convierto los indices de la predicción a nombres de clases (con detransform)\n",
    "        return self.encoder.detransform(prediction_expanded)\n"
   ]
  },
  {
   "cell_type": "code",
   "execution_count": 139,
   "metadata": {},
   "outputs": [],
   "source": [
    "class LDA(BaseBayesianClassifier):\n",
    "  def _fit_params(self, X, y):\n",
    "    # estimate each covariance matrix\n",
    "    covs =  [(np.cov(X[:,y.flatten()==idx], bias=True)) for idx in range(len(self.log_a_priori))]\n",
    "    log_a_priori = self.log_a_priori\n",
    "    self.inv_covs =  [inv(sum([val * mat for val, mat in zip(np.exp(log_a_priori), covs)]))]\n",
    "    self.means = [X[:,y.flatten()==idx].mean(axis=1, keepdims=True)\n",
    "                  for idx in range(len(self.log_a_priori))]\n",
    "    # Q7: que hace axis=1? por que no axis=0?\n",
    "\n",
    "  def _predict_log_conditional(self, x, class_idx):\n",
    "    # predict the log(P(x|G=class_idx)), the log of the conditional probability of x given the class\n",
    "    # this should depend on the model used\n",
    "    inv_cov = self.inv_covs[0]\n",
    "    modified_x =  x - 0.5*self.means[class_idx] # Ver nombre! Esto es (x-0.5 muj)\n",
    "    return self.means[class_idx].T @ inv_cov @ modified_x"
   ]
  },
  {
   "cell_type": "code",
   "execution_count": 140,
   "metadata": {},
   "outputs": [],
   "source": [
    "class TensorizedLDA(LDA):\n",
    "  def _fit_params(self, X, y):\n",
    "    # ask plain QDA to fit params\n",
    "    super()._fit_params(X,y)\n",
    "\n",
    "    # stack onto new dimension\n",
    "    self.tensor_inv_cov = np.stack(self.inv_covs)\n",
    "    self.tensor_means = np.stack(self.means)\n",
    "\n",
    "  def _predict_log_conditionals(self, x):\n",
    "    modified_x =  x - 0.5*self.tensor_means\n",
    "    result = self.tensor_means.transpose(0,2,1) @ self.tensor_inv_cov @ modified_x\n",
    "    return result.flatten()\n",
    "\n",
    "  def _predict_one(self, x):\n",
    "      # return the class that has maximum a posteriori probability\n",
    "      return np.argmax(self.log_a_priori + self._predict_log_conditionals(x))"
   ]
  },
  {
   "cell_type": "code",
   "execution_count": 141,
   "metadata": {},
   "outputs": [],
   "source": [
    "class FasterLDA(TensorizedLDA):\n",
    "    def _predict_log_conditionals(self, X):\n",
    "\n",
    "        classes = len(self.log_a_priori)\n",
    "        n = len(X[1])\n",
    "\n",
    "        X_expanded = np.expand_dims(X, axis=0)  # Forma (1, p, n)\n",
    "        X_expanded = np.tile(X_expanded, (classes, 1, 1))  # Forma (classes, p, n)\n",
    "\n",
    "        tensor_means_expanded = np.tile(self.tensor_means, (1, 1, n)) # Forma (classes, p, n)\n",
    "        modified_X = X_expanded - 0.5*tensor_means_expanded # Forma (classes, p, n)\n",
    "\n",
    "        #return self.tensor_means.transpose(0,2,1) @ self.tensor_inv_cov @ modified_X # Más directo pero un poco más lento que de la siguiente forma.\n",
    "\n",
    "        # Repitiendo lo hecho en FasterQDA()\n",
    "        modified_X_transposed =  modified_X.transpose(0,2,1) # Forma (classes, n, p)\n",
    "        tensor_means_expanded_transposed = tensor_means_expanded.transpose(0,2,1)\n",
    "        A = tensor_means_expanded_transposed @ self.tensor_inv_cov  # Forma (classes, n, p)\n",
    "\n",
    "        return (A * modified_X_transposed).sum(axis=-1) # Forma (3, n)\n",
    "\n",
    "    \n",
    "    def _predict_one(self, X):\n",
    "        # return the class that has maximum a posteriori probability\n",
    "        n = len(X[1])\n",
    "        log_a_priori_expanded = np.expand_dims(self.log_a_priori, axis=1)  # Forma (3, 1)\n",
    "        log_a_priori_expanded = np.tile(log_a_priori_expanded, (1, n))  # Forma (3, n)\n",
    "\n",
    "        self.log_a_posteriori = log_a_priori_expanded + self._predict_log_conditionals(X)\n",
    "\n",
    "        return np.argmax(self.log_a_posteriori, axis=0)\n",
    "    \n",
    "    def predict(self, X):\n",
    "        prediction_expanded = np.expand_dims(self._predict_one(X), axis=0) # Expando a la forma [self._predict_one(X)]\n",
    "        # Convierto los indices de la predicción a nombres de clases (con detransform)\n",
    "        return self.encoder.detransform(prediction_expanded)"
   ]
  },
  {
   "cell_type": "markdown",
   "metadata": {
    "id": "KS_zoK-gWkRf"
   },
   "source": [
    "## Código para pruebas"
   ]
  },
  {
   "cell_type": "markdown",
   "metadata": {
    "id": "nz19b6NJed2A"
   },
   "source": [
    "Seteamos los datos"
   ]
  },
  {
   "cell_type": "code",
   "execution_count": 142,
   "metadata": {
    "id": "m05KrhUDINVs"
   },
   "outputs": [],
   "source": [
    "# hiperparámetros\n",
    "rng_seed = 6543"
   ]
  },
  {
   "cell_type": "code",
   "execution_count": 143,
   "metadata": {
    "colab": {
     "base_uri": "https://localhost:8080/"
    },
    "id": "2hkXcoldXOqs",
    "outputId": "2ce8d627-3433-4bdd-d370-85f6b703a7b9"
   },
   "outputs": [
    {
     "name": "stdout",
     "output_type": "stream",
     "text": [
      "X: (150, 4), Y:(150, 1)\n"
     ]
    }
   ],
   "source": [
    "from sklearn.datasets import load_iris, fetch_openml\n",
    "\n",
    "def get_iris_dataset():\n",
    "  data = load_iris()\n",
    "  X_full = data.data\n",
    "  y_full = np.array([data.target_names[y] for y in data.target.reshape(-1,1)])\n",
    "  return X_full, y_full\n",
    "\n",
    "def get_penguins():\n",
    "    # get data\n",
    "    df, tgt = fetch_openml(name=\"penguins\", return_X_y=True, as_frame=True, parser='auto') \n",
    "    # Vector con las etiquetas, que en este caso corresponden a las especies de pinguinos, asociadas a cada fila del DataFrame df\n",
    "\n",
    "    # drop non-numeric columns\n",
    "    df.drop(columns=[\"island\",\"sex\"], inplace=True)\n",
    "\n",
    "    # drop rows with missing values\n",
    "    mask = df.isna().sum(axis=1) == 0\n",
    "    df = df[mask]\n",
    "    tgt = tgt[mask]\n",
    "\n",
    "    return df.values, tgt.to_numpy().reshape(-1,1)\n",
    "\n",
    "# showing for iris\n",
    "X_full, y_full = get_iris_dataset()\n",
    "\n",
    "print(f\"X: {X_full.shape}, Y:{y_full.shape}\")"
   ]
  },
  {
   "cell_type": "code",
   "execution_count": 144,
   "metadata": {
    "colab": {
     "base_uri": "https://localhost:8080/"
    },
    "id": "jAk-UQCjKecT",
    "outputId": "9566d67a-b78b-4809-bb94-8f605b065db6"
   },
   "outputs": [
    {
     "data": {
      "text/plain": [
       "array([[5.1, 3.5, 1.4, 0.2],\n",
       "       [4.9, 3. , 1.4, 0.2],\n",
       "       [4.7, 3.2, 1.3, 0.2],\n",
       "       [4.6, 3.1, 1.5, 0.2],\n",
       "       [5. , 3.6, 1.4, 0.2]])"
      ]
     },
     "execution_count": 144,
     "metadata": {},
     "output_type": "execute_result"
    }
   ],
   "source": [
    "# peek data matrix\n",
    "X_full[:5]"
   ]
  },
  {
   "cell_type": "code",
   "execution_count": 145,
   "metadata": {
    "colab": {
     "base_uri": "https://localhost:8080/"
    },
    "id": "YdzMURX2KVdO",
    "outputId": "af5fc3ac-b391-4769-de47-44cea4f566c8"
   },
   "outputs": [
    {
     "data": {
      "text/plain": [
       "array([['setosa'],\n",
       "       ['setosa'],\n",
       "       ['setosa'],\n",
       "       ['setosa'],\n",
       "       ['setosa']], dtype='<U10')"
      ]
     },
     "execution_count": 145,
     "metadata": {},
     "output_type": "execute_result"
    }
   ],
   "source": [
    "# peek target vector\n",
    "y_full[:5]"
   ]
  },
  {
   "cell_type": "markdown",
   "metadata": {
    "id": "Kl8UFh1OegbJ"
   },
   "source": [
    "Separamos el dataset en train y test para medir performance"
   ]
  },
  {
   "cell_type": "code",
   "execution_count": 146,
   "metadata": {
    "colab": {
     "base_uri": "https://localhost:8080/"
    },
    "id": "LKP_QmWCIECs",
    "outputId": "07798c6a-aa54-430e-d46d-becc2a4315ed"
   },
   "outputs": [
    {
     "name": "stdout",
     "output_type": "stream",
     "text": [
      "(4, 90) (1, 90) (4, 60) (1, 60)\n"
     ]
    }
   ],
   "source": [
    "# preparing data, train - test validation\n",
    "# 70-30 split\n",
    "from sklearn.model_selection import train_test_split\n",
    "\n",
    "def split_transpose(X, y, test_sz, random_state):\n",
    "    # split\n",
    "    X_train, X_test, y_train, y_test = train_test_split(X, y, test_size=0.4, random_state=random_state)\n",
    "\n",
    "    # transpose so observations are column vectors\n",
    "    return X_train.T, y_train.T, X_test.T, y_test.T\n",
    "\n",
    "def accuracy(y_true, y_pred):\n",
    "  return (y_true == y_pred).mean()\n",
    "\n",
    "train_x, train_y, test_x, test_y = split_transpose(X_full, y_full, 0.4, rng_seed)\n",
    "\n",
    "print(train_x.shape, train_y.shape, test_x.shape, test_y.shape)"
   ]
  },
  {
   "cell_type": "markdown",
   "metadata": {
    "id": "LwgXFPbJemb_"
   },
   "source": [
    "Entrenamos un QDA y medimos su accuracy"
   ]
  },
  {
   "cell_type": "code",
   "execution_count": 147,
   "metadata": {
    "id": "dGIf2TA5SpoT"
   },
   "outputs": [],
   "source": [
    "qda = QDA()\n",
    "lda = LDA()\n",
    "\n",
    "qda.fit(train_x, train_y)\n",
    "lda.fit(train_x, train_y)\n"
   ]
  },
  {
   "cell_type": "code",
   "execution_count": 148,
   "metadata": {
    "colab": {
     "base_uri": "https://localhost:8080/"
    },
    "id": "c0Q30DyLWpTL",
    "outputId": "dbccae86-840c-412f-ed97-22cfac21238a"
   },
   "outputs": [
    {
     "name": "stdout",
     "output_type": "stream",
     "text": [
      "Train (apparent) error is 0.0111 while test error is 0.0167\n"
     ]
    }
   ],
   "source": [
    "train_acc = accuracy(train_y, qda.predict(train_x))\n",
    "test_acc = accuracy(test_y, qda.predict(test_x))\n",
    "print(f\"Train (apparent) error is {1-train_acc:.4f} while test error is {1-test_acc:.4f}\")"
   ]
  },
  {
   "cell_type": "markdown",
   "metadata": {
    "id": "-QcLtNNIevC_"
   },
   "source": [
    "Con el magic %%timeit podemos estimar el tiempo que tarda en correr una celda en base a varias ejecuciones. Por poner un ejemplo, acá vamos a estimar lo que tarda un ciclo completo de QDA y también su inferencia (predicción).\n",
    "\n",
    "Ojo! a veces [puede ser necesario ejecutarlo varias veces](https://stackoverflow.com/questions/10994405/python-timeit-results-cached-instead-of-calculated) para obtener resultados consistentes.\n",
    "\n",
    "Si quieren explorar otros métodos de medición también es válido!"
   ]
  },
  {
   "cell_type": "code",
   "execution_count": 149,
   "metadata": {
    "colab": {
     "base_uri": "https://localhost:8080/"
    },
    "id": "vnZT-HN2fUuW",
    "outputId": "2618e7c1-7a77-4285-bafb-c2880ad167a1"
   },
   "outputs": [
    {
     "name": "stdout",
     "output_type": "stream",
     "text": [
      "2.38 ms ± 21.2 μs per loop (mean ± std. dev. of 7 runs, 100 loops each)\n"
     ]
    }
   ],
   "source": [
    "%%timeit\n",
    "\n",
    "qda.predict(test_x)"
   ]
  },
  {
   "cell_type": "code",
   "execution_count": 150,
   "metadata": {
    "colab": {
     "base_uri": "https://localhost:8080/"
    },
    "id": "kjFbVSqfeHUX",
    "outputId": "0254a727-a1d5-4be3-b73a-2f55d2c84a25"
   },
   "outputs": [
    {
     "name": "stdout",
     "output_type": "stream",
     "text": [
      "2.74 ms ± 7.11 μs per loop (mean ± std. dev. of 7 runs, 100 loops each)\n"
     ]
    }
   ],
   "source": [
    "%%timeit\n",
    "\n",
    "model = QDA()\n",
    "model.fit(train_x, train_y)\n",
    "model.predict(test_x)"
   ]
  },
  {
   "cell_type": "markdown",
   "metadata": {},
   "source": [
    "# Resolución\n",
    "\n",
    "## Ejercicio 1 y 2\n",
    "\n",
    "En el siguiente código, comente la línea correspondiente para realizar el ejercicio 1 o 2.\n",
    "\n",
    "La clasificación entre una clase y otra depende de dos términos: $\\log\\hat{f}_j(x) + \\log\\hat{\\pi}_j$. Para una predicción específica, la elección de una clase sobre otra, cuando el primer término es fijo (ya que depende del conjunto de entrenamiento y de la observación a predecir, siendo esta igual para todas las clases), puede definirse en función del valor del logaritmo de la probabilidad a priori (básicamente la proporción de cada clase conocida de antemano).\n",
    "\n",
    "En particular, para un problema dado, ambos términos tienen un peso relativo, y el valor del logaritmo de la probabilidad a priori puede ser decisivo al determinar si una observación pertenece a una clase u otra. Es posible, además, que conjuntos diferentes de probabilidades condicionales produzcan las mismas predicciones.\n",
    "\n",
    "En determinadas comparaciones, cuando la diferencia entre los logaritmos de la verosimilitud entre clases no es suficientemente grande, la probabilidad a priori puede inclinar la balanza a favor de una clase. Por otro lado, si la diferencia entre las verosimilitudes para las distintas clases es significativa, el logaritmo de la probabilidad a priori pierde relevancia y no resulta decisivo.\n",
    "\n",
    "En el ejemplo de las flores, cambiar la probabilidad a priori de $[1/3, 1/3, 1/3]$ a $[0.9, 0.05, 0.05]$ (asociado a las clases [*setosa*, *versicolor*, *virginica*]) no afecta las decisiones del clasificador, como lo demuestra la precisión obtenida en el código. Esto ocurre porque se mantiene la relación de probabilidades a priori entre las flores con características menos diferenciadas, es decir, *versicolor* y *virginica*, lo que implica que el clasificador no muestra preferencia entre estas dos clases. Al compararlas con setosa, puede inferirse que el cambio en las probabilidades a priori no altera el resultado debido al peso considerable del logaritmo de la verosimilitud de esta última clase. **En todos los casos analizados, la clase con la máxima probabilidad a posteriori coincide con la que presenta la máxima verosimilitud.**\n",
    "\n",
    "En contraste, si las probabilidades a priori cambian para clases con características más parecidas, por ejemplo, pasar de $[0.05, 0.9, 0.05]$ a $[0.05, 0.05, 0.9]$ (o de $[1/3, 1/3, 1/3]$ a $[0.05, 0.9, 0.05]$ o a $[0.05, 0.05, 0.9]$) sí puede afectar las predicciones. En este caso, el logaritmo de las probabilidades a priori influye en las decisiones del clasificador para ciertas observaciones específicas. Por este motivo, la precisión de la predicción sobre el set de prueba varía entre un caso y otro.\n",
    "\n",
    "En el caso de los pingüinos, las dos clases con características más parecidas son *Adelie* y *Chinstrap*. Considerar diferentes probabilidades a priori para ambas (por ejemplo, una con una probabilidad de $0.9$ y la otra de $0.05$) puede llevar a que el clasificador escoja, para algunas observaciones particulares, un tipo que no coincide con el real, o al menos con el que el clasificador habría seleccionado si las probabilidades a priori entre estas clases fueran diferentes.\n",
    "\n",
    "En este ejercicio en particular, mantener la probabilidad a priori relativa entre las clases más similares sin cambios, es decir, pasar de la probabilidad a priori $[1/3, 1/3, 1/3]$ a $[0.05, 0.05, 0.9]$ (asociado a las clases [*Adelie*, *Chinstrap*, *Gentoo*]), no afecta la precisión de las predicciones para el set **test** (considerando `n_runs` ejecuciones y un **split** aleatorio para cada una de ellas)."
   ]
  },
  {
   "cell_type": "code",
   "execution_count": 151,
   "metadata": {},
   "outputs": [
    {
     "name": "stdout",
     "output_type": "stream",
     "text": [
      "Precisión con priori = [1/3, 1/3, 1/3]: 0.98668\n",
      "Precisión con priori = [0.9, 0.05, 0.05]: 0.97810\n",
      "Precisión con priori = [0.05, 0.9, 0.05]: 0.95529\n",
      "Precisión con priori = [0.05, 0.05, 0.9]: 0.98668\n",
      "-------------------------\n",
      "priori = [1/3, 1/3, 1/3]\n",
      "Clase Adelie - verosimilitud, verosimilitud + log priori: -26.34, -27.44\n",
      "Clase Chinstrap - verosimilitud, verosimilitud + log priori: -31.43, -32.53\n",
      "Clase Gentoo - verosimilitud, verosimilitud + log priori: -36.97, -38.07\n",
      "priori = [0.9, 0.05, 0.05]\n",
      "Clase Adelie - verosimilitud, verosimilitud + log priori: -26.34, -26.45\n",
      "Clase Chinstrap - verosimilitud, verosimilitud + log priori: -31.43, -34.43\n",
      "Clase Gentoo - verosimilitud, verosimilitud + log priori: -36.97, -39.97\n",
      "priori = [0.05, 0.9, 0.05]\n",
      "Clase Adelie - verosimilitud, verosimilitud + log priori: -26.34, -29.34\n",
      "Clase Chinstrap - verosimilitud, verosimilitud + log priori: -31.43, -31.54\n",
      "Clase Gentoo - verosimilitud, verosimilitud + log priori: -36.97, -39.97\n",
      "priori = [0.05, 0.05, 0.9]\n",
      "Clase Adelie - verosimilitud, verosimilitud + log priori: -26.34, -29.34\n",
      "Clase Chinstrap - verosimilitud, verosimilitud + log priori: -31.43, -34.43\n",
      "Clase Gentoo - verosimilitud, verosimilitud + log priori: -36.97, -37.08\n"
     ]
    }
   ],
   "source": [
    "# Comentar la linea correspondiente para ejercicio 1 o 2.\n",
    "#X_full, y_full = get_iris_dataset() # Ejercicio 1\n",
    "X_full, y_full = get_penguins() # Ejercicio 2\n",
    "\n",
    "# Defino un modelo para cada probabilidad a priori\n",
    "qda_priori_1, priori_1 = QDA(), np.array([1/3, 1/3, 1/3])\n",
    "qda_priori_2, priori_2 = QDA(), np.array([0.9, 0.05, 0.05])\n",
    "qda_priori_3, priori_3 = QDA(), np.array([0.05, 0.9, 0.05])\n",
    "qda_priori_4, priori_4 = QDA(), np.array([0.05, 0.05, 0.9])\n",
    "\n",
    "# Número de ejecuciones aleatorias\n",
    "n_runs = 40\n",
    "\n",
    "# Defino listas que uso spara informar resultados\n",
    "list_test_acc_1 = []\n",
    "list_test_acc_2 = []\n",
    "list_test_acc_3 = []\n",
    "list_test_acc_4 = []\n",
    "\n",
    "list_verosimilitud = [[], [], []]\n",
    "\n",
    "# Ejecutar múltiples corridas\n",
    "for run in range(n_runs):\n",
    "    # Dividir los datos de forma aleatoria\n",
    "    train_x, train_y, test_x, test_y = split_transpose(X_full, y_full, 0.3, random_state=None)\n",
    "    #train_x, train_y, test_x, test_y = split_transpose(X_full, y_full, 0.3, random_state=rng_seed)\n",
    "\n",
    "    qda_priori_1.fit(train_x, train_y, priori_1)\n",
    "    qda_priori_2.fit(train_x, train_y, priori_2)\n",
    "    qda_priori_3.fit(train_x, train_y, priori_3)\n",
    "    qda_priori_4.fit(train_x, train_y, priori_4)\n",
    "\n",
    "    list_test_acc_1.append(accuracy(test_y, qda_priori_1.predict(test_x)))\n",
    "    list_test_acc_2.append(accuracy(test_y, qda_priori_2.predict(test_x)))\n",
    "    list_test_acc_3.append(accuracy(test_y, qda_priori_3.predict(test_x)))\n",
    "    list_test_acc_4.append(accuracy(test_y, qda_priori_4.predict(test_x)))\n",
    "\n",
    "    verosimilitud = qda_priori_1.verosimilitud\n",
    "    for idx, val in enumerate(verosimilitud):\n",
    "        list_verosimilitud[idx].append(val[0][0])\n",
    "\n",
    "\n",
    "print(\"Precisión con priori = [1/3, 1/3, 1/3]: {:.5f}\".format(np.mean(list_test_acc_1)))\n",
    "print(\"Precisión con priori = [0.9, 0.05, 0.05]: {:.5f}\".format(np.mean(list_test_acc_2)))\n",
    "print(\"Precisión con priori = [0.05, 0.9, 0.05]: {:.5f}\".format(np.mean(list_test_acc_3)))\n",
    "print(\"Precisión con priori = [0.05, 0.05, 0.9]: {:.5f}\".format(np.mean(list_test_acc_4)))\n",
    "\n",
    "print(\"-------------------------\")\n",
    "print(\"priori = [1/3, 1/3, 1/3]\")\n",
    "print(\"Clase {} - verosimilitud, verosimilitud + log priori: {:.2f}, {:.2f}\".format(qda_priori_1.encoder.names[0], np.mean(list_verosimilitud[0]), np.mean(list_verosimilitud[0]) + np.log(priori_1[0])))\n",
    "print(\"Clase {} - verosimilitud, verosimilitud + log priori: {:.2f}, {:.2f}\".format(qda_priori_1.encoder.names[1], np.mean(list_verosimilitud[1]), np.mean(list_verosimilitud[1]) + np.log(priori_1[1])))\n",
    "print(\"Clase {} - verosimilitud, verosimilitud + log priori: {:.2f}, {:.2f}\".format(qda_priori_1.encoder.names[2], np.mean(list_verosimilitud[2]), np.mean(list_verosimilitud[2]) + np.log(priori_1[2])))\n",
    "\n",
    "print(\"priori = [0.9, 0.05, 0.05]\")\n",
    "print(\"Clase {} - verosimilitud, verosimilitud + log priori: {:.2f}, {:.2f}\".format(qda_priori_2.encoder.names[0], np.mean(list_verosimilitud[0]), np.mean(list_verosimilitud[0]) + np.log(priori_2[0])))\n",
    "print(\"Clase {} - verosimilitud, verosimilitud + log priori: {:.2f}, {:.2f}\".format(qda_priori_2.encoder.names[1], np.mean(list_verosimilitud[1]), np.mean(list_verosimilitud[1]) + np.log(priori_2[1])))\n",
    "print(\"Clase {} - verosimilitud, verosimilitud + log priori: {:.2f}, {:.2f}\".format(qda_priori_2.encoder.names[2], np.mean(list_verosimilitud[2]), np.mean(list_verosimilitud[2]) + np.log(priori_2[2])))\n",
    "\n",
    "print(\"priori = [0.05, 0.9, 0.05]\")\n",
    "print(\"Clase {} - verosimilitud, verosimilitud + log priori: {:.2f}, {:.2f}\".format(qda_priori_3.encoder.names[0], np.mean(list_verosimilitud[0]), np.mean(list_verosimilitud[0]) + np.log(priori_3[0])))\n",
    "print(\"Clase {} - verosimilitud, verosimilitud + log priori: {:.2f}, {:.2f}\".format(qda_priori_3.encoder.names[1], np.mean(list_verosimilitud[1]), np.mean(list_verosimilitud[1]) + np.log(priori_3[1])))\n",
    "print(\"Clase {} - verosimilitud, verosimilitud + log priori: {:.2f}, {:.2f}\".format(qda_priori_3.encoder.names[2], np.mean(list_verosimilitud[2]), np.mean(list_verosimilitud[2]) + np.log(priori_3[2])))\n",
    "\n",
    "print(\"priori = [0.05, 0.05, 0.9]\")\n",
    "print(\"Clase {} - verosimilitud, verosimilitud + log priori: {:.2f}, {:.2f}\".format(qda_priori_4.encoder.names[0], np.mean(list_verosimilitud[0]), np.mean(list_verosimilitud[0]) + np.log(priori_4[0])))\n",
    "print(\"Clase {} - verosimilitud, verosimilitud + log priori: {:.2f}, {:.2f}\".format(qda_priori_4.encoder.names[1], np.mean(list_verosimilitud[1]), np.mean(list_verosimilitud[1]) + np.log(priori_4[1])))\n",
    "print(\"Clase {} - verosimilitud, verosimilitud + log priori: {:.2f}, {:.2f}\".format(qda_priori_4.encoder.names[2], np.mean(list_verosimilitud[2]), np.mean(list_verosimilitud[2]) + np.log(priori_4[2])))"
   ]
  },
  {
   "cell_type": "markdown",
   "metadata": {},
   "source": [
    "## Ejercicio 3 y 4\n",
    "\n",
    "Basado en los resultados (considerando `n_runs` ejecuciones) y utilizando tres probabilidades a priori diferentes (para tener un análisis más completo), no se puede afirmar de manera concluyente que un modelo sea mejor que otro."
   ]
  },
  {
   "cell_type": "code",
   "execution_count": 152,
   "metadata": {},
   "outputs": [
    {
     "name": "stdout",
     "output_type": "stream",
     "text": [
      "Priori: [0.33333333 0.33333333 0.33333333]\n",
      "QDA acc: 0.9870 (std: 0.0080)\n",
      "LDA acc: 0.9889 (std: 0.0067)\n",
      "Priori: [0.05 0.9  0.05]\n",
      "QDA acc: 0.9743 (std: 0.0190)\n",
      "LDA acc: 0.9696 (std: 0.0246)\n",
      "Priori: [0.05 0.05 0.9 ]\n",
      "QDA acc: 0.9787 (std: 0.0174)\n",
      "LDA acc: 0.9767 (std: 0.0227)\n"
     ]
    }
   ],
   "source": [
    "#X_full, y_full = get_iris_dataset() # Ejercicio 1\n",
    "X_full, y_full = get_penguins() # Ejercicio 2\n",
    "\n",
    "# Defino un modelo para cada probabilidad a priori\n",
    "priori_arr = np.array([[1/3, 1/3, 1/3], [0.05, 0.9, 0.05], [0.05, 0.05, 0.9]])\n",
    "qda = QDA()\n",
    "lda = LDA()\n",
    "\n",
    "# Número de corridas aleatorias\n",
    "n_runs = 50\n",
    "\n",
    "# Defino listas que uso spara informar resultados\n",
    "list_test_acc_qda = []\n",
    "list_test_acc_lda = []\n",
    "\n",
    "# Ejecutar múltiples corridas\n",
    "\n",
    "for priori in priori_arr:\n",
    "    for run in range(n_runs):\n",
    "        # Dividir los datos de forma aleatoria\n",
    "        train_x, train_y, test_x, test_y = split_transpose(X_full, y_full, 0.3, random_state=None)\n",
    "        #train_x, train_y, test_x, test_y = split_transpose(X_full, y_full, 0.3, random_state=rng_seed)\n",
    "\n",
    "        qda.fit(train_x, train_y, priori)\n",
    "        lda.fit(train_x, train_y, priori)\n",
    "\n",
    "        list_test_acc_qda.append(accuracy(test_y, qda.predict(test_x)))\n",
    "        list_test_acc_lda.append(accuracy(test_y, lda.predict(test_x)))\n",
    "\n",
    "    print(\"Priori:\", priori)\n",
    "    print(\"QDA acc: {:.4f} (std: {:.4f})\".format(np.mean(list_test_acc_qda), np.std(list_test_acc_qda)))\n",
    "    print(\"LDA acc: {:.4f} (std: {:.4f})\".format(np.mean(list_test_acc_lda), np.std(list_test_acc_lda)))"
   ]
  },
  {
   "cell_type": "markdown",
   "metadata": {},
   "source": [
    "## Ejercicio 5"
   ]
  },
  {
   "cell_type": "code",
   "execution_count": 153,
   "metadata": {},
   "outputs": [
    {
     "name": "stdout",
     "output_type": "stream",
     "text": [
      "QDA acc: 0.989 (std: 0.007)\n",
      "Tensorized QDA acc: 0.989 (std: 0.007)\n",
      "QDA time: 0.0054 (std: 0.0007)\n",
      "Tensorized QDA time: 0.0013 (std: 0.0004)\n"
     ]
    }
   ],
   "source": [
    "from time import time\n",
    "\n",
    "#X_full, y_full = get_iris_dataset() # Ejercicio 1\n",
    "X_full, y_full = get_penguins() # Ejercicio 2\n",
    "\n",
    "# Defino un modelo para cada probabilidad a priori\n",
    "priori_arr = np.array([[1/3, 1/3, 1/3], [0.05, 0.9, 0.05], [0.05, 0.05, 0.9]])\n",
    "qda = QDA()\n",
    "qda_T = TensorizedQDA()\n",
    "\n",
    "# Número de corridas aleatorias\n",
    "n_runs = 100\n",
    "\n",
    "# Defino listas que uso spara informar resultados\n",
    "list_test_acc_qda = []\n",
    "list_test_acc_qda_T = []\n",
    "list_test_time_qda = []\n",
    "list_test_time_qda_T = []\n",
    "\n",
    "# Ejecutar múltiples corridas\n",
    "\n",
    "for priori in priori_arr[:1]:\n",
    "    for run in range(n_runs):\n",
    "        # Dividir los datos de forma aleatoria\n",
    "        train_x, train_y, test_x, test_y = split_transpose(X_full, y_full, 0.3, random_state=None)\n",
    "        #train_x, train_y, test_x, test_y = split_transpose(X_full, y_full, 0.3, random_state=rng_seed)\n",
    "\n",
    "        qda.fit(train_x, train_y, priori)\n",
    "        qda_T.fit(train_x, train_y, priori)\n",
    "\n",
    "        # Calcular tiempo y guardar en listas\n",
    "        start_time = time()\n",
    "        list_test_acc_qda.append(accuracy(test_y, qda.predict(test_x)))\n",
    "        list_test_time_qda.append(time() - start_time)\n",
    "\n",
    "        start_time = time()\n",
    "        list_test_acc_qda_T.append(accuracy(test_y, qda_T.predict(test_x)))\n",
    "        list_test_time_qda_T.append(time() - start_time)\n",
    "\n",
    "    print(\"QDA acc: {:.3f} (std: {:.3f})\".format(np.mean(list_test_acc_qda), np.std(list_test_acc_qda)))\n",
    "    print(\"Tensorized QDA acc: {:.3f} (std: {:.3f})\".format(np.mean(list_test_acc_qda_T), np.std(list_test_acc_qda_T)))\n",
    "\n",
    "    print(\"QDA time: {:.4f} (std: {:.4f})\".format(np.mean(list_test_time_qda), np.std(list_test_time_qda)))\n",
    "    print(\"Tensorized QDA time: {:.4f} (std: {:.4f})\".format(np.mean(list_test_time_qda_T), np.std(list_test_time_qda_T)))"
   ]
  },
  {
   "cell_type": "markdown",
   "metadata": {},
   "source": [
    "## Optimización matemática"
   ]
  },
  {
   "cell_type": "code",
   "execution_count": 157,
   "metadata": {},
   "outputs": [
    {
     "name": "stdout",
     "output_type": "stream",
     "text": [
      "QDA acc: 0.973 (std: 0.020)\n",
      "Tensorized QDA acc: 0.973 (std: 0.020)\n",
      "faster QDA acc: 0.973 (std: 0.020)\n",
      "Faster QDA acc: 0.973 (std: 0.020)\n",
      "LDA acc: 0.977 (std: 0.017)\n",
      "Tensorized LDA acc: 0.977 (std: 0.017)\n",
      "Faster LDA acc: 0.977 (std: 0.017)\n",
      "QDA time: 0.00242 (std: 0.00055)\n",
      "Tensorized QDA time: 0.00062 (std: 0.00051)\n",
      "faster QDA time: 0.00010 (std: 0.00030)\n",
      "Faster QDA time: 0.00008 (std: 0.00027)\n",
      "LDA time: 0.00123 (std: 0.00088)\n",
      "Tensorized LDA time: 0.00038 (std: 0.00049)\n",
      "Faster LDA time: 0.00005 (std: 0.00023)\n"
     ]
    }
   ],
   "source": [
    "from time import time\n",
    "\n",
    "X_full, y_full = get_iris_dataset() # Ejercicio 1\n",
    "\n",
    "# Defino un modelo para cada probabilidad a priori\n",
    "priori = [1/3, 1/3, 1/3]\n",
    "qda = QDA()\n",
    "qda_T = TensorizedQDA()\n",
    "qda_f = fasterQDA()\n",
    "qda_F = FasterQDA()\n",
    "lda = LDA()\n",
    "lda_T = TensorizedLDA()\n",
    "lda_F = FasterLDA()\n",
    "\n",
    "# Número de corridas aleatorias\n",
    "n_runs = 1000\n",
    "\n",
    "# Defino listas que uso spara informar resultados\n",
    "list_test_acc_qda = []\n",
    "list_test_acc_qda_T = []\n",
    "list_test_acc_qda_f = []\n",
    "list_test_acc_qda_F = []\n",
    "list_test_acc_lda = []\n",
    "list_test_acc_lda_T = []\n",
    "list_test_acc_lda_F = []\n",
    "\n",
    "list_test_time_qda = []\n",
    "list_test_time_qda_T = []\n",
    "list_test_time_qda_f = []\n",
    "list_test_time_qda_F = []\n",
    "list_test_time_lda = []\n",
    "list_test_time_lda_T = []\n",
    "list_test_time_lda_F = []\n",
    "\n",
    "# Ejecutar múltiples corridas\n",
    "\n",
    "\n",
    "for run in range(n_runs):\n",
    "    # Dividir los datos de forma aleatoria\n",
    "    train_x, train_y, test_x, test_y = split_transpose(X_full, y_full, 0.3, random_state=None)\n",
    "\n",
    "    qda.fit(train_x, train_y, priori)\n",
    "    qda_T.fit(train_x, train_y, priori)\n",
    "    qda_f.fit(train_x, train_y, priori)\n",
    "    qda_F.fit(train_x, train_y, priori)\n",
    "    lda.fit(train_x, train_y, priori)\n",
    "    lda_T.fit(train_x, train_y, priori)\n",
    "    lda_F.fit(train_x, train_y, priori)\n",
    "\n",
    "    # Calcular tiempo y guardar en listas\n",
    "    start_time = time()\n",
    "    list_test_acc_qda.append(accuracy(test_y, qda.predict(test_x)))\n",
    "    list_test_time_qda.append(time() - start_time)\n",
    "\n",
    "    start_time = time()\n",
    "    list_test_acc_qda_T.append(accuracy(test_y, qda_T.predict(test_x)))\n",
    "    list_test_time_qda_T.append(time() - start_time)\n",
    "\n",
    "    start_time = time()\n",
    "    list_test_acc_qda_f.append(accuracy(test_y, qda_f.predict(test_x)))\n",
    "    list_test_time_qda_f.append(time() - start_time)\n",
    "\n",
    "    start_time = time()\n",
    "    list_test_acc_qda_F.append(accuracy(test_y, qda_F.predict(test_x)))\n",
    "    list_test_time_qda_F.append(time() - start_time)\n",
    "\n",
    "    start_time = time()\n",
    "    list_test_acc_lda.append(accuracy(test_y, lda.predict(test_x)))\n",
    "    list_test_time_lda.append(time() - start_time)\n",
    "\n",
    "    start_time = time()\n",
    "    list_test_acc_lda_T.append(accuracy(test_y, lda_T.predict(test_x)))\n",
    "    list_test_time_lda_T.append(time() - start_time)\n",
    "\n",
    "    start_time = time()\n",
    "    list_test_acc_lda_F.append(accuracy(test_y, lda_F.predict(test_x)))\n",
    "    list_test_time_lda_F.append(time() - start_time)\n",
    "\n",
    "\n",
    "print(\"QDA acc: {:.3f} (std: {:.3f})\".format(np.mean(list_test_acc_qda), np.std(list_test_acc_qda)))\n",
    "print(\"Tensorized QDA acc: {:.3f} (std: {:.3f})\".format(np.mean(list_test_acc_qda_T), np.std(list_test_acc_qda_T)))\n",
    "print(\"faster QDA acc: {:.3f} (std: {:.3f})\".format(np.mean(list_test_acc_qda_f), np.std(list_test_acc_qda_f))) # Pasando por la matriz nxn (en realidad por el tensor classes x nxn)\n",
    "print(\"Faster QDA acc: {:.3f} (std: {:.3f})\".format(np.mean(list_test_acc_qda_F), np.std(list_test_acc_qda_F)))\n",
    "print(\"LDA acc: {:.3f} (std: {:.3f})\".format(np.mean(list_test_acc_lda), np.std(list_test_acc_lda)))\n",
    "print(\"Tensorized LDA acc: {:.3f} (std: {:.3f})\".format(np.mean(list_test_acc_lda_T), np.std(list_test_acc_lda_T)))\n",
    "print(\"Faster LDA acc: {:.3f} (std: {:.3f})\".format(np.mean(list_test_acc_lda_F), np.std(list_test_acc_lda_F)))\n",
    "\n",
    "print(\"QDA time: {:.5f} (std: {:.5f})\".format(np.mean(list_test_time_qda), np.std(list_test_time_qda)))\n",
    "print(\"Tensorized QDA time: {:.5f} (std: {:.5f})\".format(np.mean(list_test_time_qda_T), np.std(list_test_time_qda_T)))\n",
    "print(\"faster QDA time: {:.5f} (std: {:.5f})\".format(np.mean(list_test_time_qda_f), np.std(list_test_time_qda_f)))\n",
    "print(\"Faster QDA time: {:.5f} (std: {:.5f})\".format(np.mean(list_test_time_qda_F), np.std(list_test_time_qda_F)))\n",
    "print(\"LDA time: {:.5f} (std: {:.5f})\".format(np.mean(list_test_time_lda), np.std(list_test_time_lda)))\n",
    "print(\"Tensorized LDA time: {:.5f} (std: {:.5f})\".format(np.mean(list_test_time_lda_T), np.std(list_test_time_lda_T)))\n",
    "print(\"Faster LDA time: {:.5f} (std: {:.5f})\".format(np.mean(list_test_time_lda_F), np.std(list_test_time_lda_F)))\n",
    "\n"
   ]
  },
  {
   "cell_type": "markdown",
   "metadata": {
    "id": "BsDYvwFEEKV5"
   },
   "source": [
    "# Consigna\n"
   ]
  },
  {
   "cell_type": "markdown",
   "metadata": {
    "id": "1Yb1V7_yXRfO"
   },
   "source": [
    "## Implementación base\n",
    "1. Entrenar un modelo QDA sobre el dataset *iris* utilizando las distribuciones *a priori* a continuación ¿Se observan diferencias?¿Por qué cree? _Pista: comparar con las distribuciones del dataset completo, **sin splitear**_.\n",
    "    1. Uniforme (cada clase tiene probabilidad 1/3)\n",
    "    2. Una clase con probabilidad 0.9, las demás 0.05 (probar las 3 combinaciones)\n",
    "2. Repetir el punto anterior para el dataset *penguin*.\n",
    "3. Implementar el modelo LDA, entrenarlo y testearlo contra los mismos sets que QDA (no múltiples prioris) ¿Se observan diferencias? ¿Podría decirse que alguno de los dos es notoriamente mejor que el otro?\n",
    "4. Utilizar otros 2 (dos) valores de *random seed* para obtener distintos splits de train y test, y repetir la comparación del punto anterior ¿Las conclusiones previas se mantienen?\n",
    "5. Estimar y comparar los tiempos de predicción de las clases `QDA` y `TensorizedQDA`. De haber diferencias ¿Cuáles pueden ser las causas?\n",
    "\n",
    "\n",
    "**Sugerencia:** puede resultar de utilidad para cada inciso de comparación utilizar tablas del siguiente estilo:\n",
    "\n",
    "<center>\n",
    "\n",
    "Modelo | Dataset | Seed | Error (train) | Error (test)\n",
    ":---: | :---: | :---: | :---: | :---:\n",
    "QDA | Iris | 125 | 0.55 | 0.85\n",
    "LDA | Iris | 125 | 0.22 | 0.8\n",
    "\n",
    "</center>\n"
   ]
  },
  {
   "cell_type": "markdown",
   "metadata": {
    "id": "7M32U5xI-gIv"
   },
   "source": [
    "## Optimización matemática\n",
    "\n",
    "**Sugerencia:** considerar combinaciones adecuadas de `transpose`, `reshape` y, ocasionalmente, `flatten`. Explorar la dimensionalidad de cada elemento antes de implementar las clases.\n",
    "\n",
    "### QDA\n",
    "\n",
    "Debido a la forma cuadrática de QDA, no se puede predecir para *n* observaciones en una sola pasada (utilizar $X \\in \\mathbb{R}^{p \\times n}$ en vez de $x \\in \\mathbb{R}^p$) sin pasar por una matriz de *n x n* en donde se computan todas las interacciones entre observaciones. Se puede acceder al resultado recuperando sólo la diagonal de dicha matriz, pero resulta ineficiente en tiempo y (especialmente) en memoria. Aún así, es *posible* que el modelo funcione más rápido.\n",
    "\n",
    "1. Implementar el modelo `FasterQDA` (se recomienda heredarlo de TensorizedQDA) de manera de eliminar el ciclo for en el método predict.\n",
    "2. Comparar los tiempos de predicción de `FasterQDA` con `TensorizedQDA` y `QDA`.\n",
    "3. Mostrar (puede ser con un print) dónde aparece la mencionada matriz de *n x n*, donde *n* es la cantidad de observaciones a predecir.\n",
    "4.Demostrar que\n",
    "$$\n",
    "diag(A \\cdot B) = \\sum_{cols} A \\odot B^T = np.sum(A \\odot B^T, axis=1)\n",
    "$$ es decir, que se puede \"esquivar\" la matriz de *n x n* usando matrices de *n x p*.\n",
    "5.Utilizar la propiedad antes demostrada para reimplementar la predicción del modelo `FasterQDA` de forma eficiente. ¿Hay cambios en los tiempos de predicción?\n",
    "\n",
    "\n",
    "### LDA\n",
    "\n",
    "1. \"Tensorizar\" el modelo LDA y comparar sus tiempos de predicción con el modelo antes implementado. *Notar que, en modo tensorizado, se puede directamente precomputar $\\mu^T \\cdot \\Sigma^{-1} \\in \\mathbb{R}^{k \\times 1 \\times p}$ y guardar eso en vez de $\\Sigma^{-1}$.*\n",
    "2. LDA no sufre del problema antes descrito de QDA debido a que no computa productos internos, por lo que no tiene un verdadero costo extra en memoria predecir \"en batch\". Implementar el modelo `FasterLDA` y comparar sus tiempos de predicción con las versiones anteriores de LDA."
   ]
  },
  {
   "cell_type": "markdown",
   "metadata": {
    "id": "U7oPeQ0z-pux"
   },
   "source": [
    "## Preguntas teóricas\n",
    "\n",
    "1. En LDA se menciona que la función a maximizar puede ser, mediante operaciones, convertida en:\n",
    "$$\n",
    "\\log{f_j(x)} =  \\mu_j^T \\Sigma^{-1} (x- \\frac{1}{2} \\mu_j) + C'\n",
    "$$\n",
    "Mostrar los pasos por los cuales se llega a dicha expresión.\n",
    "2. Explicar, utilizando las respectivas funciones a maximizar, por qué QDA y LDA son \"quadratic\" y \"linear\".\n",
    "3. La implementación de QDA estima la probabilidad condicional utilizando `0.5*np.log(det(inv_cov)) -0.5 * unbiased_x.T @ inv_cov @ unbiased_x` que no es *exactamente* lo descrito en el apartado teórico ¿Cuáles son las diferencias y por qué son expresiones equivalentes?\n",
    "\n"
   ]
  },
  {
   "cell_type": "markdown",
   "metadata": {},
   "source": [
    "1. Partimos de la expresión general para el logaritmo de la función de densidad de probabilidad condicional:\n",
    "\n",
    "$$\\log{f_j(x)} = -\\frac{1}{2} \\log{|\\Sigma|} - \\frac{1}{2} (x - \\mu_j)^T \\Sigma^{-1} (x - \\mu_j) + C$$\n",
    "\n",
    "Donde $\\Sigma$ es la matriz de covarianza común a todas las clases en LDA.\n",
    "\n",
    "Entonces, los pasos para llegar a la expresión final son los siguientes:\n",
    "\n",
    "Expandimos el término cuadrático:\n",
    "$$(x - \\mu_j)^T \\Sigma^{-1} (x - \\mu_j) = x^T \\Sigma^{-1} x - x^T \\Sigma^{-1} \\mu_j - \\mu_j^T \\Sigma^{-1} x + \\mu_j^T \\Sigma^{-1} \\mu_j$$\n",
    "\n",
    "Simplificamos, notando que $x^T \\Sigma^{-1} \\mu_j$ es un escalar y por lo tanto igual a su transpuesta:\n",
    "$$= x^T \\Sigma^{-1} x - 2 \\mu_j^T \\Sigma^{-1} x + \\mu_j^T \\Sigma^{-1} \\mu_j$$\n",
    "\n",
    "Sustituimos esto en la expresión original:\n",
    "$$\\log{f_j(x)} = -\\frac{1}{2} \\log{|\\Sigma|} - \\frac{1}{2} (x^T \\Sigma^{-1} x - 2 \\mu_j^T \\Sigma^{-1} x + \\mu_j^T \\Sigma^{-1} \\mu_j) + C$$\n",
    "\n",
    "Distribuimos el $-\\frac{1}{2}$:\n",
    "$$ -\\frac{1}{2} \\log{|\\Sigma|} - \\frac{1}{2} x^T \\Sigma^{-1} x + \\mu_j^T \\Sigma^{-1} x - \\frac{1}{2} \\mu_j^T \\Sigma^{-1} \\mu_j + C$$\n",
    "\n",
    "Agrupamos los términos que no dependen de j en una nueva constante C':\n",
    "$$ \\mu_j^T \\Sigma^{-1} x - \\frac{1}{2} \\mu_j^T \\Sigma^{-1} \\mu_j + C'$$\n",
    "\n",
    "Factorizamos $\\mu_j^T \\Sigma^{-1}$:\n",
    "$$ \\mu_j^T \\Sigma^{-1} (x - \\frac{1}{2} \\mu_j) + C'$$\n",
    "\n",
    "Así llegamos a la expresión final:\n",
    "$$ \\log{f_j(x)} = \\mu_j^T \\Sigma^{-1} (x - \\frac{1}{2} \\mu_j) + C'$$\n",
    "\n",
    "2. En QDA, la función a maximizar es:\n",
    "$$ \\log{f_j(x)} = -\\frac{1}{2} \\log{|\\Sigma_j|} - \\frac{1}{2} (x - \\mu_j)^T \\Sigma_j^{-1} (x - \\mu_j) + C$$\n",
    "\n",
    "Al expandir el término cuadrático, obtenemos términos de segundo orden en x $(x^T \\Sigma_j^{-1} x)$.\n",
    "- Estos términos cuadráticos resultan en límites de decisión cuadráticos en el espacio de características.\n",
    "- La superficie de decisión entre dos clases será una función cuadrática de x.\n",
    "\n",
    "En LDA, la función a maximizar se simplifica a:\n",
    "$$\\log{f_j(x)} = \\mu_j^T \\Sigma^{-1} (x - \\frac{1}{2} \\mu_j) + C'$$\n",
    "- Esta expresión es lineal en x, ya que solo contiene términos de primer orden en x.\n",
    "- No hay términos cuadráticos en x.\n",
    "- La superficie de decisión entre dos clases será una función lineal de x, resultando en límites de decisión lineales en el espacio de características.\n",
    "\n",
    "3. La implementación de QDA usa:\n",
    "`0.5*np.log(det(inv_cov)) -0.5 * unbiased_x.T @ inv_cov @ unbiased_x`\n",
    "\n",
    "Mientras que la expresión teórica es:\n",
    "$$-\\frac{1}{2} \\log{|\\Sigma_j|} - \\frac{1}{2} (x - \\mu_j)^T \\Sigma_j^{-1} (x - \\mu_j)$$\n",
    "\n",
    "Diferencias y equivalencias:\n",
    "- Uso de la inversa de la covarianza: La implementación usa inv_cov directamente. Esto es equivalente porque $\\det(\\Sigma_j^{-1}) = 1 / \\det(\\Sigma_j)$.\n",
    "\n",
    "- Signo del término logarítmico: La implementación usa `0.5*np.log(det(inv_cov)) en lugar de $-\\frac{1}{2} \\log{|\\Sigma_j|}$. Esto es equivalente debido a la propiedad del logaritmo: $\\log{(1/x)} = -\\log{(x)}$.\n",
    "\n",
    "- Cálculo del término cuadrático: La implementación usa `0.5*np.log(det(inv_cov)) -0.5 * unbiased_x.T @ inv_cov @ unbiased_x`, donde `unbiased_x` = $(x - \\mu_j)$ Esto es algebraicamente igual a decir que: $(x - \\mu_j)^T \\Sigma_j^{-1} (x - \\mu_j)$.\n",
    "\n",
    "- La implementación no incluye una constante aditiva.\n",
    "Esto no afecta la clasificación, ya que la constante es la misma para todas las clases y no influye en la comparación de probabilidades. Las expresiones son matemáticamente equivalentes, con la implementación utilizando algunas propiedades algebraicas para simplificar el cálculo."
   ]
  },
  {
   "cell_type": "markdown",
   "metadata": {
    "id": "CpOoxE2d-mOY"
   },
   "source": [
    "## Ejercicio teórico\n",
    "\n",
    "Sea una red neuronal de dos capas, la primera de 3 neuronas y la segunda de 1 con los parámetros inicializados con los siguientes valores:\n",
    "$$\n",
    "w^{(1)} =\n",
    "\\begin{pmatrix}\n",
    "0.1 & -0.5 \\\\\n",
    "-0.3 & -0.9 \\\\\n",
    "0.8 & 0.02\n",
    "\\end{pmatrix},\n",
    "b^{(1)} = \\begin{pmatrix}\n",
    "0.1 \\\\\n",
    "0.5 \\\\\n",
    "0.8\n",
    "\\end{pmatrix},\n",
    "w^{(2)} =\n",
    "\\begin{pmatrix}\n",
    "-0.4 & 0.2 & -0.5\n",
    "\\end{pmatrix},\n",
    "b^{(2)} = 0.7\n",
    "$$\n",
    "\n",
    "y donde cada capa calcula su salida vía\n",
    "\n",
    "$$\n",
    "y^{(i)} = \\sigma (w^{(i)} \\cdot x^{(i)}+b^{(i)})\n",
    "$$\n",
    "\n",
    "donde $\\sigma (z) = \\frac{1}{1+e^{-z}}$ es la función sigmoidea .\n",
    "\n",
    "\\\\\n",
    "Dada la observación $x=\\begin{pmatrix}\n",
    "1.8 \\\\\n",
    "-3.4\n",
    "\\end{pmatrix}$, $y=5$ y la función de costo $J(\\theta)=\\frac{1}{2}(\\hat{y}_\\theta-y)^2$, calcular las derivadas de J respecto de cada parámetro $w^{(1)}$, $w^{(2)}$, $b^{(1)}$, $b^{(2)}$.\n",
    "\n",
    "*Nota: Con una sigmoidea a la salida jamás va a poder estimar el 5 \"pedido\", pero eso no afecta al mecanismo de backpropagation!*"
   ]
  },
  {
   "cell_type": "markdown",
   "metadata": {},
   "source": [
    "### Parámetros iniciales\n",
    "\n",
    "- Pesos de la primera capa:\n",
    "  $$\n",
    "  w^{(1)} = \\begin{pmatrix}\n",
    "  0.1 & -0.5 \\\\\n",
    "  -0.3 & -0.9 \\\\\n",
    "  0.8 & 0.02\n",
    "  \\end{pmatrix}\n",
    "  $$\n",
    "\n",
    "- Sesgos de la primera capa:\n",
    "  $$\n",
    "  b^{(1)} = \\begin{pmatrix}\n",
    "  0.1 \\\\\n",
    "  0.5 \\\\\n",
    "  0.8\n",
    "  \\end{pmatrix}\n",
    "  $$\n",
    "\n",
    "- Pesos de la segunda capa:\n",
    "  $$\n",
    "  w^{(2)} = \\begin{pmatrix}\n",
    "  -0.4 & 0.2 & -0.5\n",
    "  \\end{pmatrix}\n",
    "  $$\n",
    "\n",
    "- Sesgo de la segunda capa:\n",
    "  $$\n",
    "  b^{(2)} = 0.7\n",
    "  $$\n",
    "\n",
    "### Observación y función de costo\n",
    "\n",
    "- Entrada:\n",
    "$$\n",
    "x = \\begin{pmatrix}\n",
    "1.8 \\\\\n",
    "-3.4\n",
    "\\end{pmatrix}\n",
    "$$\n",
    "\n",
    "- Salida esperada:\n",
    "$$\n",
    "y = 5\n",
    "$$\n",
    "\n",
    "- Función de costo:\n",
    "$$\n",
    "J(\\theta) = \\frac{1}{2}(\\hat{y}_\\theta - y)^2\n",
    "$$\n",
    "\n",
    "### Paso 1: Forward propagation\n",
    "\n",
    "1. Cálculo del input para la primera capa:\n",
    "   $$\n",
    "   z^{(1)} = w^{(1)} x + b^{(1)}\n",
    "   $$\n",
    "\n",
    "   Calculamos cada componente:\n",
    "   - Para la neurona 1:\n",
    "     $$\n",
    "     z_1^{(1)} = (0.1)(1.8) + (-0.5)(-3.4) + 0.1 = 1.98\n",
    "     $$\n",
    "   - Para la neurona 2:\n",
    "     $$\n",
    "     z_2^{(1)} = (-0.3)(1.8) + (-0.9)(-3.4) + 0.5 = 3.02\n",
    "     $$\n",
    "   - Para la neurona 3:\n",
    "     $$\n",
    "     z_3^{(1)} = (0.8)(1.8) + (0.02)(-3.4) + 0.8 = 2.192\n",
    "     $$\n",
    "\n",
    "2. Aplicar la función de activación (sigmoide):\n",
    "   $$\n",
    "   a^{(1)}_i = \\sigma(z_i^{(1)})\n",
    "   $$\n",
    "   Calculamos las salidas:\n",
    "   $$ a_1^{(1)} = \\sigma(1.98) \\approx 0.8787 $$\n",
    "   $$ a_2^{(1)} = \\sigma(3.02) \\approx 0.9536 $$\n",
    "   $$ a_3^{(1)} = \\sigma(2.192) \\approx 0.8997 $$\n",
    "\n",
    "3. Cálculo del input para la segunda capa:\n",
    "   $$\n",
    "   z^{(2)} = w^{(2)} a^{(1)} + b^{(2)}\n",
    "   $$\n",
    "\n",
    "   Sustituyendo los valores:\n",
    "   $$\n",
    "   z^{(2)} = (-0.4)(a_1^{(1)}) + (0.2)(a_2^{(1)}) + (-0.5)(a_3^{(1)}) + 0.7\n",
    "   $$\n",
    "   Calculamos:\n",
    "   $$\n",
    "   z^{(2)} \\approx -0.3515 + 0.1907 - 0.44985 + 0.7 \\approx 0.08905\n",
    "   $$\n",
    "\n",
    "4. Salida de la red:\n",
    "   Aplicamos sigmoide nuevamente:\n",
    "   $$\n",
    "   y_{\\hat{\\theta}} = \\sigma(z^{(2)}) \\approx 0.52225\n",
    "   $$\n",
    "\n",
    "### Paso 2: Cálculo del costo y de las derivadas\n",
    "\n",
    "La derivada de la función de costo con respecto a la salida es:\n",
    "$$\n",
    "\\frac{\\partial J}{\\partial y_{\\hat{\\theta}}} = y_{\\hat{\\theta}} - y\n",
    "$$\n",
    "\n",
    "Sustituyendo los valores obtenidos:\n",
    "$$\n",
    "\\frac{\\partial J}{\\partial y_{\\hat{\\theta}}} = (0.52225 - 5) \\approx -4.47775\n",
    "$$\n",
    "\n",
    "### Paso 3: Backpropagation\n",
    "\n",
    "#### Derivadas para parámetros de la capa de salida\n",
    "\n",
    "Para los pesos en la segunda capa:\n",
    "$$\n",
    "\\frac{\\partial J}{\\partial w_j^{(2)}} = (y_{\\hat{\\theta}} - y) a_j^{(1)}\n",
    "$$\n",
    "\n",
    "Calculamos para cada peso:\n",
    "- Para w_1^{(2)}:\n",
    "$$\n",
    "\\frac{\\partial J}{\\partial w_1^{(2)}} = (0.52225 - 5)(a_1^{(1)}) \\approx -3.9359\n",
    "$$\n",
    "\n",
    "- Para w_2^{(2)}:\n",
    "$$\n",
    "\\frac{\\partial J}{\\partial w_2^{(2)}} = (0.52225 - 5)(a_2^{(1)}) \\approx -4.2706\n",
    "$$\n",
    "\n",
    "- Para w_3^{(2)}:\n",
    "$$\n",
    "\\frac{\\partial J}{\\partial w_3^{(2)}} = (0.52225 - 5)(a_3^{(i)}) \\approx -4.0298\n",
    "$$\n",
    "\n",
    "\n",
    "Para el sesgo en la segunda capa:\n",
    "$$ \n",
    "\\frac{\\partial J}{\\partial b^{(2)}} = y_{\\hat{\\theta}} - y \\approx -4,47775 \n",
    "$$\n",
    "\n",
    "### Derivadas para parámetros de la capa oculta\n",
    "\n",
    "Para los pesos en la primera capa, utilizamos el siguiente enfoque:\n",
    "\n",
    "La derivada se calcula como sigue:\n",
    "$$ \n",
    "\\frac{\\partial J}{\\partial w_{ij}^{(i)}}=(y_{\\hat{\\theta}}-y)\\cdot\\sigma'(z)\\cdot x_j \n",
    "$$\n",
    " \n",
    "\n",
    "Donde \\( x_j \\) son las características de entrada."
   ]
  },
  {
   "cell_type": "markdown",
   "metadata": {},
   "source": [
    "### Resultados finales de derivadas de capa de salida\r",
    "**Pesos**:\n",
    "$$\n",
    "w_1^{(2)} = -3.9359\n",
    "$$\n",
    "$$\n",
    "w_2^{(2)} = -4.2706\n",
    "$$\n",
    "\n",
    "$$\n",
    "w_3^{(2)} = -4.0298\n",
    "$$\n",
    "\n",
    "**Sesgo**:\n",
    "$$\n",
    "b^{(2)} = -4.47775\n",
    "$$"
   ]
  },
  {
   "cell_type": "markdown",
   "metadata": {
    "id": "z-CNlW06-i-u"
   },
   "source": [
    "## Preguntas en el código\n",
    "Previamente las preguntas \"técnicas\" en comentarios en el código eran parte del TP, y buscaban que el alumno logre entrar en el detalle de por qué cada linea de código es como es y en el orden en el que está. Ya no forman parte de la consigna, pero se aconseja al alumno intentar responderlas. Las respuestas a las mismas se encuentran en un archivo separado."
   ]
  },
  {
   "cell_type": "markdown",
   "metadata": {},
   "source": [
    "### ClassEncoder\n",
    "\n",
    "Q1: ¿Por qué no hace falta definir un class_to_name para el mapeo inverso?\n",
    "- Porque el mapeo de clase a nombre (int a string) ya se puede accediendo al índice correspondiente del vector self.names.\n",
    "\n",
    "Q2: ¿Por qué hace falta un reshape?\n",
    "- Porque como NumPy no tiene una función que aplique elemento a elemento una función escalar, la aplicación se debe hacer vía una list comprehension sobre el arreglo flatteneado. Al hacer el flatten se pierde la dimensionalidad original, por lo que es necesario un reshape para recuperarla."
   ]
  },
  {
   "cell_type": "markdown",
   "metadata": {},
   "source": [
    "### BaseBayesianClassifier\n",
    "\n",
    "Q3: ¿Para qué sirve bincount?\n",
    "\n",
    "- Sirve para contar las frecuencias absolutas de aparición de cada clase. Al dividir por y.size, se recuperan las frecuencias relativas, que son la estimación de las probabilidades a priori de cada clase.\n",
    "\n",
    "Q4: ¿Por qué el _fit_params va al final? ¿No se puede mover a, por ejemplo, antes de la priori?\n",
    "\n",
    "Repasemos qué ocurre antes:\n",
    "- Se encodean las clases para pasarlas a valores numéricos entre 0 y k-1.\n",
    "- Se obtienen las probabilidades a priori (impuestas o estimadas). Notar que si no se encodean previamente las clases, el bincount de _estimate_a_priori se rompe.\n",
    "\n",
    "- El método _fit_params requiere que las clases estén encodeadas y utiliza el atributo self.log_a_priori, por lo que rompe si alguno de los d anteriores no es realizado."
   ]
  },
  {
   "cell_type": "markdown",
   "metadata": {},
   "source": [
    "### QDA\n",
    "\n",
    "Q5: ¿Por qué hace falta el flatten y no se puede directamente X[:,y==idx]?\n",
    "- Porque y en realidad está modelado como una matriz para poder ser un vector columna, y NumPy arroja error si se intenta indexar una dimensión (la de las columnas de X) con un array de dos dimensiones, incluso si una de esas dos es de tamaño 1.\n",
    "\n",
    "Q6: ¿Por qué se usa bias=True en vez del default bias=False?\n",
    "- Porque bias = True divide por n en vez de por n-1, que es el valor default, y es lo que queremos porque ese es el estimador de máxima verosimilitud.\n",
    "\n",
    "Q7: ¿Qué hace axis = 1? ¿Por qué no axis = 0?\n",
    "- Porque en nuestro esquema de observaciones como vectores columna, los datos se encuentran en formato (features, observaciones), donde una matriz X de dimensiones (n, m) indica que tiene n features y hay m observaciones. Calcular la media sobre las columnas es promediar sobre las observaciones, hacerlo sobre las features (axis=0) no tendría sentido."
   ]
  }
 ],
 "metadata": {
  "colab": {
   "provenance": []
  },
  "kernelspec": {
   "display_name": "Python 3 (ipykernel)",
   "language": "python",
   "name": "python3"
  },
  "language_info": {
   "codemirror_mode": {
    "name": "ipython",
    "version": 3
   },
   "file_extension": ".py",
   "mimetype": "text/x-python",
   "name": "python",
   "nbconvert_exporter": "python",
   "pygments_lexer": "ipython3",
   "version": "3.12.4"
  }
 },
 "nbformat": 4,
 "nbformat_minor": 4
}
